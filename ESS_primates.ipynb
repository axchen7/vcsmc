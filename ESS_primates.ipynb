{
 "cells": [
  {
   "cell_type": "code",
   "execution_count": null,
   "metadata": {},
   "outputs": [],
   "source": [
    "import os\n",
    "from scripts.train.hyp_train import hyp_train, QMatrixType\n",
    "\n",
    "os.environ[\"WANDB_MODE\"] = \"offline\"\n",
    "\n",
    "result = hyp_train(\n",
    "    lr=0.1,\n",
    "    epochs=50,\n",
    "    K=512,\n",
    "    q_matrix=QMatrixType.STATIONARY,\n",
    "    hyperbolic=False,\n",
    "    file=\"data/primates.phy\",\n",
    ")"
   ]
  },
  {
   "cell_type": "code",
   "execution_count": null,
   "metadata": {},
   "outputs": [],
   "source": [
    "assert result is not None\n",
    "\n",
    "log_weights_rxK = result[\"log_weights_rxK\"].cpu().detach()\n",
    "\n",
    "# final weights\n",
    "log_weights_K = log_weights_rxK[-1]\n",
    "log_ESS = 2 * log_weights_K.logsumexp(0) - (log_weights_K * 2).logsumexp(0)\n",
    "ESS = log_ESS.exp()\n",
    "ESS"
   ]
  },
  {
   "cell_type": "code",
   "execution_count": null,
   "metadata": {},
   "outputs": [],
   "source": [
    "import pickle\n",
    "\n",
    "with open(\"log_weights_rxK.pkl\", \"wb\") as f:\n",
    "    pickle.dump(log_weights_rxK.numpy(), f)"
   ]
  },
  {
   "cell_type": "code",
   "execution_count": null,
   "metadata": {},
   "outputs": [],
   "source": [
    "log_weights_K"
   ]
  }
 ],
 "metadata": {
  "kernelspec": {
   "display_name": ".venv",
   "language": "python",
   "name": "python3"
  },
  "language_info": {
   "codemirror_mode": {
    "name": "ipython",
    "version": 3
   },
   "file_extension": ".py",
   "mimetype": "text/x-python",
   "name": "python",
   "nbconvert_exporter": "python",
   "pygments_lexer": "ipython3",
   "version": "3.10.12"
  }
 },
 "nbformat": 4,
 "nbformat_minor": 2
}
