{
 "cells": [
  {
   "cell_type": "code",
   "execution_count": null,
   "metadata": {},
   "outputs": [],
   "source": [
    "import time\n",
    "import torch\n",
    "from vcsmc.fast_bmm import fast_bmm\n",
    "from vcsmc.expm.expm_simple import expm_simple\n",
    "\n",
    "B = 1024\n",
    "# B = 1024 * 1024\n",
    "# B = 16\n",
    "A = 4\n",
    "\n",
    "x = torch.randn(B, A, A).cuda()\n",
    "y = torch.randn(B, A, A).cuda()\n",
    "\n",
    "start = time.time()\n",
    "\n",
    "for i in range(10):\n",
    "    # fast_bmm(x, y)\n",
    "    # torch.bmm(x, y)\n",
    "\n",
    "    # expm_simple(x)\n",
    "    torch.matrix_exp(x)\n",
    "\n",
    "end = time.time()\n",
    "print(\"Time (ms):\", (end - start) * 1000)"
   ]
  }
 ],
 "metadata": {
  "kernelspec": {
   "display_name": "base",
   "language": "python",
   "name": "python3"
  },
  "language_info": {
   "codemirror_mode": {
    "name": "ipython",
    "version": 3
   },
   "file_extension": ".py",
   "mimetype": "text/x-python",
   "name": "python",
   "nbconvert_exporter": "python",
   "pygments_lexer": "ipython3",
   "version": "3.10.13"
  }
 },
 "nbformat": 4,
 "nbformat_minor": 2
}
