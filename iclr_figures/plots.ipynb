{
 "cells": [
  {
   "cell_type": "code",
   "execution_count": 2,
   "metadata": {},
   "outputs": [],
   "source": [
    "import pandas as pd\n",
    "import matplotlib.pyplot as plt\n",
    "\n",
    "data_dir = \"https://raw.githubusercontent.com/axchen7/vcsmc/refs/heads/iclr-figures/iclr_figures/data/\""
   ]
  },
  {
   "cell_type": "markdown",
   "metadata": {},
   "source": [
    "# Compare Q Matrix\n"
   ]
  },
  {
   "cell_type": "code",
   "execution_count": null,
   "metadata": {},
   "outputs": [],
   "source": [
    "df = pd.read_csv(f\"{data_dir}/compare_q_matrix.csv\")\n",
    "\n",
    "# Define the columns to plot\n",
    "columns_to_plot = [\n",
    "    (\n",
    "        \"Name: compare_q_matrix-mlp - Log ZCSMC\",\n",
    "        \"Name: compare_q_matrix-mlp - Log ZCSMC__MIN\",\n",
    "        \"Name: compare_q_matrix-mlp - Log ZCSMC__MAX\",\n",
    "    ),\n",
    "    (\n",
    "        \"Name: compare_q_matrix-stationary - Log ZCSMC\",\n",
    "        \"Name: compare_q_matrix-stationary - Log ZCSMC__MIN\",\n",
    "        \"Name: compare_q_matrix-stationary - Log ZCSMC__MAX\",\n",
    "    ),\n",
    "    (\n",
    "        \"Name: compare_q_matrix-jc69 - Log ZCSMC\",\n",
    "        \"Name: compare_q_matrix-jc69 - Log ZCSMC__MIN\",\n",
    "        \"Name: compare_q_matrix-jc69 - Log ZCSMC__MAX\",\n",
    "    ),\n",
    "]\n",
    "\n",
    "labels = [\n",
    "    \"Learned Per-Embedding\",\n",
    "    \"Learned Globally\",\n",
    "    \"Fixed JC69\",\n",
    "]\n",
    "\n",
    "# Plot the data\n",
    "plt.figure(figsize=(6, 4))\n",
    "\n",
    "for (col, col_min, col_max), label in zip(columns_to_plot, labels):\n",
    "    plt.plot(df[\"Step\"], df[col], label=label)\n",
    "    plt.fill_between(df[\"Step\"], df[col_min], df[col_max], alpha=0.2)\n",
    "\n",
    "# Add labels and title\n",
    "plt.xlabel(\"Step\")\n",
    "plt.ylabel(\"Log ZCSMC\")\n",
    "plt.title(\"Effect of Q Matrix on Log Likelihood Estimates\")\n",
    "plt.legend()\n",
    "\n",
    "# Show the plot\n",
    "plt.savefig(\"output/q_matrix_vs_ll.pdf\")\n",
    "plt.show()"
   ]
  },
  {
   "cell_type": "markdown",
   "metadata": {},
   "source": [
    "# Effect of K\n"
   ]
  },
  {
   "cell_type": "code",
   "execution_count": null,
   "metadata": {},
   "outputs": [],
   "source": [
    "df = pd.read_csv(f\"{data_dir}/effect_of_k.csv\")\n",
    "\n",
    "# Define the main columns to plot\n",
    "columns = [\n",
    "    \"Name: compare_k-512 - Log ZCSMC\",\n",
    "    \"Name: compare_k-256 - Log ZCSMC\",\n",
    "    \"Name: compare_k-128 - Log ZCSMC\",\n",
    "    \"Name: compare_k-64 - Log ZCSMC\",\n",
    "    \"Name: compare_k-32 - Log ZCSMC\",\n",
    "    \"Name: compare_k-16 - Log ZCSMC\",\n",
    "]\n",
    "\n",
    "labels = [\n",
    "    \"K = 512\",\n",
    "    \"K = 256\",\n",
    "    \"K = 128\",\n",
    "    \"K = 64\",\n",
    "    \"K = 32\",\n",
    "    \"K = 16\",\n",
    "]\n",
    "\n",
    "# Define the window size for the running average\n",
    "window_size = 50\n",
    "\n",
    "# Apply the running average to each series\n",
    "smoothed_df = df.copy()\n",
    "\n",
    "for col in columns:\n",
    "    smoothed_df[col] = df[col].rolling(window=window_size).mean()\n",
    "\n",
    "# Shift x-axis to start from 1\n",
    "smoothed_df[\"Step\"] = smoothed_df[\"Step\"] - window_size\n",
    "\n",
    "# Plot the data\n",
    "plt.figure(figsize=(6, 4))\n",
    "\n",
    "for col, label in zip(columns, labels):\n",
    "    plt.plot(smoothed_df[\"Step\"], smoothed_df[col], label=label)\n",
    "\n",
    "# Add labels and title\n",
    "plt.xlabel(\"Step\")\n",
    "plt.ylabel(\"Log ZCSMC\")\n",
    "plt.title(\"Effect of K on Likelihood Estimates\")\n",
    "plt.legend()\n",
    "\n",
    "# Limit the x-axis\n",
    "plt.xlim(0, 100)\n",
    "\n",
    "# Limit the y-axis\n",
    "plt.ylim(-6400, -5900)\n",
    "\n",
    "# Show the plot\n",
    "plt.savefig(\"output/k_vs_ll.pdf\")\n",
    "plt.show()"
   ]
  },
  {
   "cell_type": "markdown",
   "metadata": {},
   "source": [
    "# Benchmark on Primates\n"
   ]
  },
  {
   "cell_type": "code",
   "execution_count": null,
   "metadata": {},
   "outputs": [],
   "source": [
    "df = pd.read_csv(f\"{data_dir}/primates_benchmark.csv\")\n",
    "\n",
    "# Define the column to plot\n",
    "column = \"Name: benchmark_primates-phase1 - Log ZCSMC__MAX\"\n",
    "label = \"Hyperbolic SMC\"\n",
    "\n",
    "# Plot the data\n",
    "plt.figure(figsize=(8, 6))\n",
    "plt.plot(df[\"Step\"], df[column], label=label)\n",
    "\n",
    "# Set x-axis range\n",
    "plt.xlim(0, 97)\n",
    "\n",
    "# Set y-axis range\n",
    "plt.ylim(-6400, -5750)\n",
    "\n",
    "# Add labels and title\n",
    "plt.xlabel(\"Step\")\n",
    "plt.ylabel(\"Log ZCSMC\")\n",
    "plt.title(\"Primates Benchmark\")\n",
    "plt.legend()\n",
    "\n",
    "# Show the plot\n",
    "plt.savefig(\"output/primates_benchmark.pdf\")\n",
    "plt.show()"
   ]
  },
  {
   "cell_type": "markdown",
   "metadata": {},
   "source": [
    "# Benchmark on Large Datasets\n"
   ]
  },
  {
   "cell_type": "code",
   "execution_count": null,
   "metadata": {},
   "outputs": [],
   "source": [
    "# ds -> (VBPI-NF, VaiPhy)\n",
    "other_scores = {\n",
    "    \"DS2\": (-26367.70, -31203.44),\n",
    "    \"DS3\": (-33735.09, -33911.13),\n",
    "    \"DS4\": (-13329.93, -13700.86),\n",
    "    \"DS5\": (-8214.61, -8464.77),\n",
    "    \"DS6\": (-6724.36, -7157.84),\n",
    "    \"DS8\": (-8650.49, -9462.21),\n",
    "}\n",
    "\n",
    "df = pd.read_csv(f\"{data_dir}/large_benchmarks.csv\")\n",
    "\n",
    "# Create a figure with 2 rows and 3 columns\n",
    "fig, axes = plt.subplots(nrows=2, ncols=3, figsize=(12, 6))\n",
    "\n",
    "datasets = [\"DS2\", \"DS3\", \"DS4\", \"DS5\", \"DS6\", \"DS8\"]\n",
    "\n",
    "for i, ds in enumerate(datasets):\n",
    "    ax = axes[i // 3, i % 3]  # type: ignore\n",
    "    ax.plot(df[\"Step\"], df[f\"{ds}-phase1 - Log ZCSMC\"], label=\"Hyperbolic SMC\")\n",
    "\n",
    "    # Add horizontal dashed line for other methods results\n",
    "    ax.axhline(y=other_scores[ds][0], color=\"brown\", linestyle=\"--\", label=\"VBPI-NF\")\n",
    "    ax.axhline(y=other_scores[ds][1], color=\"orange\", linestyle=\"--\", label=\"VaiPhy\")\n",
    "\n",
    "    # Add labels and title\n",
    "    ax.set_xlabel(\"Step\")\n",
    "    ax.set_ylabel(\"Log ZCSMC\")\n",
    "    ax.set_title(ds)\n",
    "    ax.legend(loc=\"lower right\")\n",
    "\n",
    "# Adjust layout\n",
    "plt.tight_layout()\n",
    "\n",
    "# Show the plot\n",
    "plt.savefig(\"output/large_benchmarks.pdf\")\n",
    "plt.show()"
   ]
  },
  {
   "cell_type": "code",
   "execution_count": 7,
   "metadata": {},
   "outputs": [
    {
     "name": "stdout",
     "output_type": "stream",
     "text": [
      "DS1: 9.46 minutes\n",
      "DS2: 12.42 minutes\n",
      "DS3: 12.84 minutes\n",
      "DS4: 11.42 minutes\n",
      "DS5: 8.79 minutes\n",
      "DS6: 14.64 minutes\n",
      "DS8: 18.55 minutes\n"
     ]
    }
   ],
   "source": [
    "df = pd.read_csv(f\"{data_dir}/wall_clocks.csv\")\n",
    "\n",
    "datasets = [\"DS1\", \"DS2\", \"DS3\", \"DS4\", \"DS5\", \"DS6\", \"DS8\"]\n",
    "\n",
    "for ds in datasets:\n",
    "    phase1_column = f\"{ds}-phase1 - Log ZCSMC\"\n",
    "    phase2_column = f\"{ds}-phase2 - Log ZCSMC\"\n",
    "\n",
    "    # find the smallest \"Wall Time\" valuewith a non-NaN \"Log ZCSMC\" value\n",
    "    start_time = df.loc[df[phase1_column].notna(), \"Wall Time\"].min()\n",
    "\n",
    "    # find the largest \"Wall Time\" value with a non-NaN \"Log ZCSMC\" value\n",
    "    end_time = df.loc[df[phase2_column].notna(), \"Wall Time\"].max()\n",
    "\n",
    "    delta_seconds = end_time - start_time\n",
    "    delta_minutes = delta_seconds / 60\n",
    "\n",
    "    print(f\"{ds}: {delta_minutes:.2f} minutes\")"
   ]
  }
 ],
 "metadata": {
  "kernelspec": {
   "display_name": ".venv",
   "language": "python",
   "name": "python3"
  },
  "language_info": {
   "codemirror_mode": {
    "name": "ipython",
    "version": 3
   },
   "file_extension": ".py",
   "mimetype": "text/x-python",
   "name": "python",
   "nbconvert_exporter": "python",
   "pygments_lexer": "ipython3",
   "version": "3.11.9"
  }
 },
 "nbformat": 4,
 "nbformat_minor": 2
}
