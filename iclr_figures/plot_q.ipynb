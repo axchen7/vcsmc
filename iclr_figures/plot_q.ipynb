{
 "cells": [
  {
   "cell_type": "code",
   "execution_count": 6,
   "metadata": {},
   "outputs": [
    {
     "name": "stdout",
     "output_type": "stream",
     "text": [
      "Loaded checkpoint at the start of epoch 0 (after epoch -1).\n"
     ]
    }
   ],
   "source": [
    "import torch\n",
    "from vcsmc import *\n",
    "\n",
    "args, checkpoint = load_checkpoint(search_dir=\"../checkpoints/2024-10-17_16-12-17\")"
   ]
  },
  {
   "cell_type": "code",
   "execution_count": 2,
   "metadata": {},
   "outputs": [],
   "source": [
    "vcsmc = checkpoint[\"vcsmc\"]\n",
    "q_matrix_decoder = vcsmc.q_matrix_decoder\n",
    "distance = vcsmc.q_matrix_decoder.distance\n",
    "seq_encoder = vcsmc.proposal.seq_encoder"
   ]
  },
  {
   "cell_type": "code",
   "execution_count": null,
   "metadata": {},
   "outputs": [],
   "source": [
    "import matplotlib.pyplot as plt\n",
    "\n",
    "A = 4\n",
    "B = 1000 + 1  # fidelity of the mesh over the poincare disk\n",
    "\n",
    "x = torch.linspace(-1, 1, B)\n",
    "y = torch.linspace(-1, 1, B)\n",
    "\n",
    "X, Y = torch.meshgrid(x, y, indexing=\"ij\")\n",
    "\n",
    "mask = torch.where(X**2 + Y**2 <= 1, 1, 0)\n",
    "mask = mask[:, :, None, None]\n",
    "\n",
    "X_flat = X.flatten()\n",
    "Y_flat = Y.flatten()\n",
    "\n",
    "embeddings = torch.stack([X_flat, Y_flat], dim=1)\n",
    "embeddings = distance.unnormalize(embeddings)\n",
    "\n",
    "S = 898\n",
    "Q = q_matrix_decoder.Q_matrix_VxSxAxA(embeddings, torch.zeros(S, 0))\n",
    "Q = Q[:, 0]\n",
    "\n",
    "# B x B x A x A\n",
    "Q = Q.view(B, B, A, A)\n",
    "\n",
    "# mask\n",
    "Q = torch.where(mask == 1, Q, torch.tensor(float(\"nan\")))\n",
    "\n",
    "vmin = -1\n",
    "vmax = 1\n",
    "\n",
    "# (number of taxa) x 2\n",
    "embeddings = seq_encoder(args[\"data_NxSxA\"])\n",
    "embeddings = distance.normalize(embeddings)\n",
    "\n",
    "n_rows = 4\n",
    "n_cols = 4\n",
    "\n",
    "fig, axs = plt.subplots(n_rows, n_cols, figsize=(20, 20))\n",
    "\n",
    "for row in range(n_rows):\n",
    "    for col in range(n_cols):\n",
    "        ax = axs[row, col]  # type: ignore\n",
    "        cax = ax.imshow(\n",
    "            Q[:, :, row, col].detach().numpy(), cmap=\"coolwarm\", vmin=vmin, vmax=vmax\n",
    "        )\n",
    "\n",
    "        ax.scatter(\n",
    "            (embeddings[:, 0].detach().numpy() + 1) * (B - 1) / 2,\n",
    "            (embeddings[:, 1].detach().numpy() + 1) * (B - 1) / 2,\n",
    "            color=\"black\",\n",
    "            s=10,\n",
    "            alpha=0.5,\n",
    "        )\n",
    "\n",
    "        ax.spines[\"left\"].set_visible(False)\n",
    "        ax.spines[\"right\"].set_visible(False)\n",
    "        ax.spines[\"top\"].set_visible(False)\n",
    "        ax.spines[\"bottom\"].set_visible(False)\n",
    "        ax.tick_params(axis=\"x\", which=\"both\", length=0)\n",
    "        ax.tick_params(axis=\"y\", which=\"both\", length=0)\n",
    "        ax.set_xticklabels([])\n",
    "        ax.set_yticklabels([])\n",
    "\n",
    "        alphabet = list(A4_ALPHABET.keys())\n",
    "\n",
    "        if row == n_rows - 1:\n",
    "            ax.set_xlabel(alphabet[col], fontsize=20, labelpad=20)\n",
    "\n",
    "        if col == 0:\n",
    "            ax.set_ylabel(alphabet[row], rotation=0, fontsize=20, labelpad=20)\n",
    "\n",
    "\n",
    "fig.colorbar(cax, ax=axs, orientation=\"vertical\", fraction=0.03)  # type: ignore\n",
    "plt.tight_layout(rect=[0.15, 0.15, 0.85, 0.85])  # type: ignore\n",
    "\n",
    "plt.savefig(\"output/q_matrix.pdf\")\n",
    "plt.show()\n",
    "\n",
    "# TODO\n",
    "# - label for overall x and y axis (interpretation of the Q matrix)"
   ]
  }
 ],
 "metadata": {
  "kernelspec": {
   "display_name": ".venv",
   "language": "python",
   "name": "python3"
  },
  "language_info": {
   "codemirror_mode": {
    "name": "ipython",
    "version": 3
   },
   "file_extension": ".py",
   "mimetype": "text/x-python",
   "name": "python",
   "nbconvert_exporter": "python",
   "pygments_lexer": "ipython3",
   "version": "3.12.2"
  }
 },
 "nbformat": 4,
 "nbformat_minor": 2
}
